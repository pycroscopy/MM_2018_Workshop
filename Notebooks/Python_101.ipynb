{
 "cells": [
  {
   "cell_type": "markdown",
   "metadata": {},
   "source": [
    "# Alex Belianinov\n",
    "# Center for Nanophase Materials Sciences, \n",
    "# Oak Ridge National Laboratory \n",
    "\n",
    "### Python 101"
   ]
  },
  {
   "cell_type": "code",
   "execution_count": 1,
   "metadata": {},
   "outputs": [
    {
     "name": "stdout",
     "output_type": "stream",
     "text": [
      "hello world\n",
      "howdy y'all\n",
      "howdy y'all\n",
      "howdy y'all\n"
     ]
    },
    {
     "data": {
      "text/plain": [
       "17"
      ]
     },
     "execution_count": 1,
     "metadata": {},
     "output_type": "execute_result"
    }
   ],
   "source": [
    "# ipython notebooks (this environment) .. are made up of cells\n",
    "# to run this cell, i'm going to type shift-enter\n",
    "# # (in python) indicates a comment\n",
    "\n",
    "print(\"hello world\")\n",
    "\n",
    "30 + 45\n",
    "\n",
    "for i in range(3):\n",
    "    print(\"howdy y'all\")\n",
    "\n",
    "17  # this last value in the cell, is the value of the cell as a whole"
   ]
  },
  {
   "cell_type": "code",
   "execution_count": 2,
   "metadata": {},
   "outputs": [
    {
     "data": {
      "text/plain": [
       "34"
      ]
     },
     "execution_count": 2,
     "metadata": {},
     "output_type": "execute_result"
    }
   ],
   "source": [
    "Out[1] * 2"
   ]
  },
  {
   "cell_type": "code",
   "execution_count": 3,
   "metadata": {},
   "outputs": [
    {
     "data": {
      "text/plain": [
       "36"
      ]
     },
     "execution_count": 3,
     "metadata": {},
     "output_type": "execute_result"
    }
   ],
   "source": [
    "Out[2] + 2"
   ]
  },
  {
   "cell_type": "code",
   "execution_count": 4,
   "metadata": {},
   "outputs": [
    {
     "name": "stdout",
     "output_type": "stream",
     "text": [
      "100 10 100\n",
      "30\n"
     ]
    }
   ],
   "source": [
    "# variables and variable names\n",
    "aVar = 100\n",
    "avar = 10\n",
    "AVAR = 100\n",
    "\n",
    "print(aVar, avar, AVAR)\n",
    "\n",
    "# start with any letter or underscore ... then we can letters and numbers\n",
    "var1 = 10\n",
    "var2 = 20\n",
    "print(var1 + var2)\n"
   ]
  },
  {
   "cell_type": "code",
   "execution_count": 5,
   "metadata": {},
   "outputs": [
    {
     "ename": "SyntaxError",
     "evalue": "invalid syntax (<ipython-input-5-0ee949be2e45>, line 2)",
     "output_type": "error",
     "traceback": [
      "\u001b[0;36m  File \u001b[0;32m\"<ipython-input-5-0ee949be2e45>\"\u001b[0;36m, line \u001b[0;32m2\u001b[0m\n\u001b[0;31m    3rdName = 100    # b/c leading digit\u001b[0m\n\u001b[0m          ^\u001b[0m\n\u001b[0;31mSyntaxError\u001b[0m\u001b[0;31m:\u001b[0m invalid syntax\n"
     ]
    }
   ],
   "source": [
    "# following fail:\n",
    "3rdName = 100    # b/c leading digit\n",
    "for = 3          # b/c keywords aren't legal variable name\n",
    "\n",
    "del var2\n",
    "# print var2   # this name no longer exists (NameError)"
   ]
  },
  {
   "cell_type": "code",
   "execution_count": 6,
   "metadata": {},
   "outputs": [
    {
     "name": "stdout",
     "output_type": "stream",
     "text": [
      "0\n",
      "1\n",
      "2\n",
      "3\n",
      "4\n"
     ]
    }
   ],
   "source": [
    "# indentation\n",
    "i = 0\n",
    "while i < 5:\n",
    "    print(i)\n",
    "    i = i + 1"
   ]
  },
  {
   "cell_type": "code",
   "execution_count": 10,
   "metadata": {},
   "outputs": [
    {
     "name": "stdout",
     "output_type": "stream",
     "text": [
      "0\n",
      "1\n",
      "2\n",
      "3\n",
      "4\n"
     ]
    }
   ],
   "source": [
    "for i in range(5):\n",
    "    print(i)"
   ]
  },
  {
   "cell_type": "code",
   "execution_count": 7,
   "metadata": {},
   "outputs": [
    {
     "name": "stdout",
     "output_type": "stream",
     "text": [
      "[0, 1, 2, 3, 4]\n"
     ]
    }
   ],
   "source": [
    "range(5)  # ---> list of the values 0...4\n",
    "a = range(5)\n",
    "a = list(a)\n",
    "print (a)"
   ]
  },
  {
   "cell_type": "code",
   "execution_count": 8,
   "metadata": {},
   "outputs": [
    {
     "name": "stdout",
     "output_type": "stream",
     "text": [
      "0\n",
      "1\n",
      "2\n",
      "3\n",
      "i is big\n",
      "4\n",
      "i is big\n"
     ]
    }
   ],
   "source": [
    "# control-m followed by l (ell) ... you can get line numbers in a cell\n",
    "for i in range(5):\n",
    "    print(i)\n",
    "    if i > 2:\n",
    "        print(\"i is big\")"
   ]
  },
  {
   "cell_type": "code",
   "execution_count": 13,
   "metadata": {},
   "outputs": [
    {
     "name": "stdout",
     "output_type": "stream",
     "text": [
      "0 is\n",
      "even\n",
      "1 is\n",
      "odd\n",
      "2 is\n",
      "even\n",
      "3 is\n",
      "odd\n",
      "4 is\n",
      "even\n"
     ]
    }
   ],
   "source": [
    "for i in range(5):\n",
    "    print (i, \"is\") \n",
    "    if i % 2 == 0:   # / 2 gives 0, then a number is even\n",
    "        print(\"even\")\n",
    "    else:\n",
    "        print(\"odd\")"
   ]
  },
  {
   "cell_type": "code",
   "execution_count": 14,
   "metadata": {},
   "outputs": [
    {
     "name": "stdout",
     "output_type": "stream",
     "text": [
      "hello\n",
      "world\n"
     ]
    }
   ],
   "source": [
    "print(\"hello\")\n",
    "print(\"world\")"
   ]
  },
  {
   "cell_type": "code",
   "execution_count": 15,
   "metadata": {},
   "outputs": [
    {
     "name": "stdout",
     "output_type": "stream",
     "text": [
      "0 is small\n",
      "1 is small\n",
      "2 is small\n",
      "3 is middle\n",
      "4 is middle\n",
      "5 is middle\n",
      "6 is middle\n",
      "7 is middle\n",
      "8 is big\n",
      "9 is big\n"
     ]
    }
   ],
   "source": [
    "for i in range(10):\n",
    "    print( i, \"is\", end=\" \") #Python 3 way to print without a newline\n",
    "    if i < 3:\n",
    "        print(\"small\")\n",
    "    # in C, we need two separate conditions  (C's && --->  and)\n",
    "    elif i >= 3 and i <= 7:   # i between 3 and 7 (inclusive)\n",
    "        print(\"middle\")\n",
    "    else:\n",
    "        print(\"big\")"
   ]
  },
  {
   "cell_type": "code",
   "execution_count": 11,
   "metadata": {},
   "outputs": [
    {
     "name": "stdout",
     "output_type": "stream",
     "text": [
      "8\n",
      "True\n",
      "False\n",
      "False\n",
      "False\n"
     ]
    }
   ],
   "source": [
    "print(3 + 5)\n",
    "print(True and True)\n",
    "print(True and False)\n",
    "print(False and True)\n",
    "print(False and False)"
   ]
  },
  {
   "cell_type": "code",
   "execution_count": 18,
   "metadata": {},
   "outputs": [
    {
     "name": "stdout",
     "output_type": "stream",
     "text": [
      "True\n",
      "True\n",
      "True\n",
      "False\n"
     ]
    }
   ],
   "source": [
    "print(True or True)\n",
    "print(True or False)\n",
    "print(False or True)\n",
    "print(False or False)"
   ]
  },
  {
   "cell_type": "code",
   "execution_count": 19,
   "metadata": {},
   "outputs": [
    {
     "name": "stdout",
     "output_type": "stream",
     "text": [
      "False\n"
     ]
    }
   ],
   "source": [
    "print(not True)"
   ]
  },
  {
   "cell_type": "code",
   "execution_count": 12,
   "metadata": {},
   "outputs": [
    {
     "name": "stdout",
     "output_type": "stream",
     "text": [
      "hello world 10 35 3.14 20\n"
     ]
    }
   ],
   "source": [
    "# displaying values:\n",
    "x = 10\n",
    "print(\"hello world\", x, 35, 3.14, x + 10)"
   ]
  },
  {
   "cell_type": "code",
   "execution_count": 13,
   "metadata": {},
   "outputs": [
    {
     "name": "stdout",
     "output_type": "stream",
     "text": [
      "168\n"
     ]
    }
   ],
   "source": [
    "averyveryverylongvariablename = 42\n",
    "\n",
    "result = averyveryverylongvariablename + averyveryverylongvariablename + averyveryverylongvariablename + averyveryverylongvariablename\n",
    "\n",
    "# dealing with long lines:\n",
    "# MEF preferred\n",
    "result = (averyveryverylongvariablename + \n",
    "          averyveryverylongvariablename + \n",
    "          averyveryverylongvariablename + \n",
    "          averyveryverylongvariablename)\n",
    "\n",
    "# you have to be careful about no spaces after the backslash\n",
    "# and the backslash can get confusing on longlines and in math\n",
    "result = averyveryverylongvariablename + \\\n",
    "         averyveryverylongvariablename + \\\n",
    "         averyveryverylongvariablename + \\\n",
    "         averyveryverylongvariablename\n",
    "\n",
    "print(result)"
   ]
  },
  {
   "cell_type": "code",
   "execution_count": 14,
   "metadata": {
    "collapsed": true
   },
   "outputs": [],
   "source": [
    "# doing nothing\n",
    "# C/Java:  we use a ; by itself for a NULL stmt\n",
    "for i in range(5):\n",
    "    pass    # placeholder"
   ]
  },
  {
   "cell_type": "markdown",
   "metadata": {},
   "source": [
    "### Basic Datatype"
   ]
  },
  {
   "cell_type": "code",
   "execution_count": 15,
   "metadata": {},
   "outputs": [
    {
     "name": "stdout",
     "output_type": "stream",
     "text": [
      "False\n",
      "1\n",
      "10\n"
     ]
    }
   ],
   "source": [
    "print(True and False)   # these are boolean values ... \"bool\"\n",
    "print(True + False)     # just like 1 + 0\n",
    "print(True * 10)          # just like 1 * 10"
   ]
  },
  {
   "cell_type": "code",
   "execution_count": 16,
   "metadata": {},
   "outputs": [
    {
     "name": "stdout",
     "output_type": "stream",
     "text": [
      "<class 'bool'>\n",
      "<class 'int'>\n",
      "<class 'int'>\n",
      "True\n"
     ]
    }
   ],
   "source": [
    "print(type(True))\n",
    "print(type(1))  # one\n",
    "print(type(True + False))\n",
    "\n",
    "print(isinstance(True, int))  # is True a particular int?\n",
    "# bools are ints by \"inheritence\""
   ]
  },
  {
   "cell_type": "code",
   "execution_count": 17,
   "metadata": {},
   "outputs": [
    {
     "data": {
      "text/plain": [
       "int"
      ]
     },
     "execution_count": 17,
     "metadata": {},
     "output_type": "execute_result"
    }
   ],
   "source": [
    "type(42)  # evaluating just show int"
   ]
  },
  {
   "cell_type": "code",
   "execution_count": 18,
   "metadata": {},
   "outputs": [
    {
     "name": "stdout",
     "output_type": "stream",
     "text": [
      "<class 'int'>\n"
     ]
    }
   ],
   "source": [
    "print(type(42))"
   ]
  },
  {
   "cell_type": "code",
   "execution_count": 19,
   "metadata": {},
   "outputs": [
    {
     "data": {
      "text/plain": [
       "1"
      ]
     },
     "execution_count": 19,
     "metadata": {},
     "output_type": "execute_result"
    }
   ],
   "source": [
    "2^3   # not \"to the power of\""
   ]
  },
  {
   "cell_type": "code",
   "execution_count": 20,
   "metadata": {},
   "outputs": [
    {
     "data": {
      "text/plain": [
       "8"
      ]
     },
     "execution_count": 20,
     "metadata": {},
     "output_type": "execute_result"
    }
   ],
   "source": [
    "2**3 # two raised to the third power"
   ]
  },
  {
   "cell_type": "code",
   "execution_count": 21,
   "metadata": {},
   "outputs": [
    {
     "data": {
      "text/plain": [
       "179769313486231590772930519078902473361797697894230657273430081157732675805500963132708477322407536021120113879871393357658789768814416622492847430639474124377767893424865485276302219601246094119453082952085005768838150682342462881473913110540827237163350510684586298239947245938479716304835356329624224137216"
      ]
     },
     "execution_count": 21,
     "metadata": {},
     "output_type": "execute_result"
    }
   ],
   "source": [
    "2**(2**10)  # gives us an int; earlier versions of Python add L at the end"
   ]
  },
  {
   "cell_type": "code",
   "execution_count": 30,
   "metadata": {},
   "outputs": [
    {
     "name": "stdout",
     "output_type": "stream",
     "text": [
      "6.300000000000001\n",
      "False\n",
      "True\n"
     ]
    }
   ],
   "source": [
    "# a comment about floats:\n",
    "# 1.  they are approximations to real numbers ... b/c they have finite memory\n",
    "#     .9999999999...    .... we have to trim it at some point  (in base 10... 1/9 -> .1... )\n",
    "# 2.  in base 2 (how we store floats) ... there are different repeating numbers\n",
    "#     so we have different infinite repeaters\n",
    "\n",
    "a = 2.1 + 4.2\n",
    "print(a)\n",
    "\n",
    "print(a == 6.3)  # WTH?  same in C/C++/Java ... anyone using IEEE-754 representation (everyone)\n",
    "\n",
    "# we don't compare to floats with equality\n",
    "# we say \"are these two values close enough\"\n",
    "\n",
    "print(6.3 - .0001  < a < 6.3 +.0001)   # close enough is within 10**-4"
   ]
  },
  {
   "cell_type": "code",
   "execution_count": 31,
   "metadata": {},
   "outputs": [
    {
     "name": "stdout",
     "output_type": "stream",
     "text": [
      "3\n",
      "3\n",
      "3\n"
     ]
    }
   ],
   "source": [
    "# converting between different types\n",
    "# in python, to make something of a type, we can almost always \"say the name of that type\"\n",
    "# and get that sort of thing out\n",
    "print(int(3)) # ---> int with the value 3\n",
    "print(int(3.0)) # ---> int with value 3 from float 3.0\n",
    "print(int(\"3\")) # ---> \"\"                 \"\"  string \"3\""
   ]
  },
  {
   "cell_type": "code",
   "execution_count": 23,
   "metadata": {},
   "outputs": [
    {
     "ename": "SyntaxError",
     "evalue": "invalid syntax (<ipython-input-23-50377330ea4c>, line 3)",
     "output_type": "error",
     "traceback": [
      "\u001b[0;36m  File \u001b[0;32m\"<ipython-input-23-50377330ea4c>\"\u001b[0;36m, line \u001b[0;32m3\u001b[0m\n\u001b[0;31m    print int(\"3.14\")    # python can't make an int out of a floating point looking string\u001b[0m\n\u001b[0m            ^\u001b[0m\n\u001b[0;31mSyntaxError\u001b[0m\u001b[0;31m:\u001b[0m invalid syntax\n"
     ]
    }
   ],
   "source": [
    "print(float(\"3.14\"))  # string \"3.14\" --> float 3.14\n",
    "# FAILS:\n",
    "print int(\"3.14\")    # python can't make an int out of a floating point looking string\n",
    "print(float(\"3.14\"))\n",
    "print(int(float(\"3.14\")))  # by using two steps, we get the desired (?) int"
   ]
  },
  {
   "cell_type": "code",
   "execution_count": 24,
   "metadata": {},
   "outputs": [
    {
     "name": "stdout",
     "output_type": "stream",
     "text": [
      "hello world\n",
      "hello world\n",
      "She said, \"Hi there.\"\n",
      "She's angry at me\n"
     ]
    }
   ],
   "source": [
    "# string literals come in a few flavors\n",
    "print(\"hello world\")  # with \"\"\n",
    "print('hello world')  # with ''\n",
    "\n",
    "# these are very useful with regular expressions\n",
    "print('She said, \"Hi there.\"')\n",
    "print(\"She's angry at me\")"
   ]
  },
  {
   "cell_type": "code",
   "execution_count": 35,
   "metadata": {},
   "outputs": [
    {
     "name": "stdout",
     "output_type": "stream",
     "text": [
      "a long string\n",
      "split over several lines\n",
      "and that might be\n",
      "annoying to type in by hand\n"
     ]
    }
   ],
   "source": [
    "# sometimes strings spill over many lines\n",
    "# use \"\"\" or '''\n",
    "longstring = \"\"\"a long string\n",
    "split over several lines\n",
    "and that might be\n",
    "annoying to type in by hand\"\"\"\n",
    "\n",
    "print(longstring)"
   ]
  },
  {
   "cell_type": "code",
   "execution_count": 36,
   "metadata": {},
   "outputs": [
    {
     "data": {
      "text/plain": [
       "'a long string\\nsplit over several lines\\nand that might be\\nannoying to type in by hand'"
      ]
     },
     "execution_count": 36,
     "metadata": {},
     "output_type": "execute_result"
    }
   ],
   "source": [
    "longstring"
   ]
  },
  {
   "cell_type": "code",
   "execution_count": 37,
   "metadata": {},
   "outputs": [
    {
     "name": "stdout",
     "output_type": "stream",
     "text": [
      "0\t10\n",
      "20\t30\n"
     ]
    }
   ],
   "source": [
    "# python lets us use \"escape chars\" for special symbols\n",
    "# \\n --> newline\n",
    "# \\t --> tab\n",
    "print(\"0\\t10\\n20\\t30\")"
   ]
  },
  {
   "cell_type": "code",
   "execution_count": 25,
   "metadata": {},
   "outputs": [
    {
     "name": "stdout",
     "output_type": "stream",
     "text": [
      "amanaplanacanalpanamab\n",
      "bamanaplanacanalpanama\n"
     ]
    }
   ],
   "source": [
    "# some string basics\n",
    "s = \"amanaplanacanalpanama\"\n",
    "print(s)\n",
    "print(s[::-1])  # reverse the string"
   ]
  },
  {
   "cell_type": "code",
   "execution_count": 26,
   "metadata": {},
   "outputs": [
    {
     "name": "stdout",
     "output_type": "stream",
     "text": [
      "n\n",
      "a\n",
      "man\n",
      "ma\n",
      "man\n"
     ]
    }
   ],
   "source": [
    "# 0123\n",
    "# amanaplanacanalpanama\n",
    "\n",
    "# indexing (a single value)\n",
    "print(s[3])   # location 3 within the string  (python counts from zero)\n",
    "print(s[0])\n",
    "\n",
    "print(s[1] + s[2] + s[3])   # adding is string concatenation\n",
    "# slicing (pulling out a substring)\n",
    "print(s[1:3])  # the ending point here, was NOT included\n",
    "print(s[1:4])  # includes the starting point ... excludes the ending point ... half open interval"
   ]
  },
  {
   "cell_type": "code",
   "execution_count": 27,
   "metadata": {},
   "outputs": [
    {
     "name": "stdout",
     "output_type": "stream",
     "text": [
      "amanaplan\n",
      "amanaplan\n"
     ]
    }
   ],
   "source": [
    "print(s[0:9])\n",
    "print(s[:9])   # default start is zero"
   ]
  },
  {
   "cell_type": "code",
   "execution_count": 28,
   "metadata": {},
   "outputs": [
    {
     "name": "stdout",
     "output_type": "stream",
     "text": [
      "22\n"
     ]
    }
   ],
   "source": [
    "# how long is the string\n",
    "print(len(s))"
   ]
  },
  {
   "cell_type": "code",
   "execution_count": 29,
   "metadata": {},
   "outputs": [
    {
     "name": "stdout",
     "output_type": "stream",
     "text": [
      "a\n",
      "m\n",
      "a\n"
     ]
    }
   ],
   "source": [
    "# what are my legal indices?\n",
    "print(s[0])\n",
    "print(s[19])\n",
    "print(s[20])\n",
    "# print s[21]  # <---- ???   b/c are legal indices are 0 .... 20  (21 total values)"
   ]
  },
  {
   "cell_type": "code",
   "execution_count": 30,
   "metadata": {},
   "outputs": [
    {
     "name": "stdout",
     "output_type": "stream",
     "text": [
      "panama\n"
     ]
    }
   ],
   "source": [
    "# working with a slice is a little diff. than working with a straight index\n",
    "print(s[15:21])  # remember, don't include the end point"
   ]
  },
  {
   "cell_type": "code",
   "execution_count": 31,
   "metadata": {},
   "outputs": [
    {
     "name": "stdout",
     "output_type": "stream",
     "text": [
      "panamab\n"
     ]
    }
   ],
   "source": [
    "print(s[15:])   # default ending spot is the end of the string"
   ]
  },
  {
   "cell_type": "code",
   "execution_count": 32,
   "metadata": {},
   "outputs": [
    {
     "name": "stdout",
     "output_type": "stream",
     "text": [
      "amanaplanacanalpanamab\n"
     ]
    }
   ],
   "source": [
    "# to get the whole string\n",
    "print(s[:])   # this is a copy of the underlying string"
   ]
  },
  {
   "cell_type": "code",
   "execution_count": 33,
   "metadata": {},
   "outputs": [
    {
     "name": "stdout",
     "output_type": "stream",
     "text": [
      "panamab\n",
      "anamab\n",
      "anamab\n"
     ]
    }
   ],
   "source": [
    "print(s[15:len(s)])  # len(s) is 21\n",
    "print(s[len(s)-6:len(s)])\n",
    "print(s[len(s)-6:])"
   ]
  },
  {
   "cell_type": "code",
   "execution_count": 34,
   "metadata": {},
   "outputs": [
    {
     "name": "stdout",
     "output_type": "stream",
     "text": [
      "b\n",
      "a\n",
      "m\n"
     ]
    }
   ],
   "source": [
    "# with indexing\n",
    "#print s[len(s)]   # FAIL!\n",
    "print(s[len(s)-1])\n",
    "print(s[len(s)-2])\n",
    "print(s[len(s)-3])"
   ]
  },
  {
   "cell_type": "code",
   "execution_count": 35,
   "metadata": {},
   "outputs": [
    {
     "name": "stdout",
     "output_type": "stream",
     "text": [
      "b\n",
      "a\n",
      "m\n"
     ]
    }
   ],
   "source": [
    "print(s[-1])  # go to len(s) and move back 1 position\n",
    "print(s[-2])\n",
    "print(s[-3])"
   ]
  },
  {
   "cell_type": "code",
   "execution_count": 36,
   "metadata": {},
   "outputs": [
    {
     "name": "stdout",
     "output_type": "stream",
     "text": [
      "anamab\n"
     ]
    }
   ],
   "source": [
    "print(s[-6:])  # the last 6 chars of s"
   ]
  },
  {
   "cell_type": "code",
   "execution_count": 37,
   "metadata": {},
   "outputs": [
    {
     "data": {
      "text/plain": [
       "'txt'"
      ]
     },
     "execution_count": 37,
     "metadata": {},
     "output_type": "execute_result"
    }
   ],
   "source": [
    "filename = \"names.txt\"\n",
    "filename[-3:]  # --> the file extension"
   ]
  },
  {
   "cell_type": "code",
   "execution_count": 38,
   "metadata": {},
   "outputs": [
    {
     "name": "stdout",
     "output_type": "stream",
     "text": [
      "amanaplanacanalpanamab\n",
      "zmanaplanacanalpanamab\n"
     ]
    }
   ],
   "source": [
    "print(s)\n",
    "# make it:  zman\n",
    "# s[0] = 'z'  # --> FAIL!\n",
    "# once we make a string, it is immutable (we can't modify it)\n",
    "\n",
    "print('z' + s[1:])"
   ]
  },
  {
   "cell_type": "code",
   "execution_count": 39,
   "metadata": {},
   "outputs": [
    {
     "name": "stdout",
     "output_type": "stream",
     "text": [
      "False\n",
      "True\n"
     ]
    }
   ],
   "source": [
    "print(\"e\" in s)\n",
    "print(\"p\" in s)"
   ]
  },
  {
   "cell_type": "code",
   "execution_count": 40,
   "metadata": {},
   "outputs": [
    {
     "data": {
      "text/plain": [
       "'HELLO WORLD'"
      ]
     },
     "execution_count": 40,
     "metadata": {},
     "output_type": "execute_result"
    }
   ],
   "source": [
    "s = \"hello world\"\n",
    "s.upper()  # give a copy of it in upper case"
   ]
  },
  {
   "cell_type": "code",
   "execution_count": 41,
   "metadata": {},
   "outputs": [
    {
     "name": "stdout",
     "output_type": "stream",
     "text": [
      "Hello World\n",
      "Hello world\n"
     ]
    }
   ],
   "source": [
    "print(s.title())\n",
    "print(s.capitalize())"
   ]
  },
  {
   "cell_type": "code",
   "execution_count": 42,
   "metadata": {},
   "outputs": [
    {
     "name": "stdout",
     "output_type": "stream",
     "text": [
      "Help on built-in function capitalize:\n",
      "\n",
      "capitalize(...) method of builtins.str instance\n",
      "    S.capitalize() -> str\n",
      "    \n",
      "    Return a capitalized version of S, i.e. make the first character\n",
      "    have upper case and the rest lower case.\n",
      "\n"
     ]
    }
   ],
   "source": [
    "# dir(s)\n",
    "help(s.capitalize)"
   ]
  },
  {
   "cell_type": "code",
   "execution_count": 43,
   "metadata": {},
   "outputs": [
    {
     "name": "stdout",
     "output_type": "stream",
     "text": [
      "Hello World\n",
      "<class 'str'>\n",
      "hELLO wORLD\n"
     ]
    }
   ],
   "source": [
    "s = \"hello world\"\n",
    "print(s.title())\n",
    "print(type(s.title()))    # a string ---> so we can do string things to it! (like .swapcase())\n",
    "print(s.title().swapcase())"
   ]
  },
  {
   "cell_type": "code",
   "execution_count": 44,
   "metadata": {},
   "outputs": [
    {
     "name": "stdout",
     "output_type": "stream",
     "text": [
      "d\n",
      "hello world\n"
     ]
    }
   ],
   "source": [
    "print(s[10])\n",
    "# print s[20]\n",
    "print(s[:200])  # in a slice, the upper limit is simply an \"at most\" stopping point"
   ]
  },
  {
   "cell_type": "markdown",
   "metadata": {},
   "source": [
    "### Lists"
   ]
  },
  {
   "cell_type": "code",
   "execution_count": 45,
   "metadata": {},
   "outputs": [
    {
     "name": "stdout",
     "output_type": "stream",
     "text": [
      "IBM    \t\t\t\n",
      "   100 \n",
      "\n",
      "  112.37\n"
     ]
    }
   ],
   "source": [
    "line = \"IBM    \\t\\t\\t\\n   100 \\n\\n  112.37\"\n",
    "print(line)"
   ]
  },
  {
   "cell_type": "code",
   "execution_count": 46,
   "metadata": {
    "collapsed": true
   },
   "outputs": [],
   "source": [
    "pieces = line.split()   # ---> produces a list, from a string   (by default it throws out whitespace)"
   ]
  },
  {
   "cell_type": "code",
   "execution_count": 47,
   "metadata": {},
   "outputs": [
    {
     "name": "stdout",
     "output_type": "stream",
     "text": [
      "<class 'list'>\n"
     ]
    }
   ],
   "source": [
    "print(type(pieces))"
   ]
  },
  {
   "cell_type": "code",
   "execution_count": 48,
   "metadata": {},
   "outputs": [
    {
     "name": "stdout",
     "output_type": "stream",
     "text": [
      "3\n",
      "IBM\n",
      "112.37\n",
      "112.37\n"
     ]
    }
   ],
   "source": [
    "print(len(pieces))\n",
    "print(pieces[0])\n",
    "print(pieces[2])\n",
    "price = float(pieces[2])\n",
    "print(price) # this one is a float"
   ]
  },
  {
   "cell_type": "code",
   "execution_count": 49,
   "metadata": {},
   "outputs": [
    {
     "name": "stdout",
     "output_type": "stream",
     "text": [
      "[1, 2, 'hello', 3.14]\n",
      "1\n",
      "2\n",
      "hello\n",
      "3.14\n"
     ]
    }
   ],
   "source": [
    "lst = [1, 2, 'hello', 3.14]\n",
    "print(lst)\n",
    "for itm in lst:  # itm is a variable name for the loop variable\n",
    "    print(itm)"
   ]
  },
  {
   "cell_type": "code",
   "execution_count": 69,
   "metadata": {},
   "outputs": [
    {
     "data": {
      "text/plain": [
       "49999995000000"
      ]
     },
     "execution_count": 69,
     "metadata": {},
     "output_type": "execute_result"
    }
   ],
   "source": [
    "sum(range(10000000))  # slight pause b/c (1) takes time to add up 10M \n",
    "                      #                  (2) it takes time to allocate space (memory) for 10M"
   ]
  },
  {
   "cell_type": "code",
   "execution_count": 73,
   "metadata": {},
   "outputs": [
    {
     "name": "stdout",
     "output_type": "stream",
     "text": [
      "range(1, 3)\n",
      "4\n",
      "True\n",
      "False\n"
     ]
    }
   ],
   "source": [
    "print(lst[1:3])  # --> list\n",
    "print(lst[-1])   # --> single item\n",
    "print(1 in lst)\n",
    "print(10 in lst)"
   ]
  },
  {
   "cell_type": "code",
   "execution_count": 74,
   "metadata": {},
   "outputs": [
    {
     "name": "stdout",
     "output_type": "stream",
     "text": [
      "['GOOG|CSCO|YHOO']\n",
      "['GOOG', 'CSCO', 'YHOO']\n",
      "['GOOG', '', '', 'CSCO', '', '', 'YHOO']\n"
     ]
    }
   ],
   "source": [
    "# one more bit on split:\n",
    "# split can also take a non-default character (besides whitespace)\n",
    "print(\"GOOG|CSCO|YHOO\".split())\n",
    "print(\"GOOG|CSCO|YHOO\".split(\"|\"))\n",
    "print(\"GOOG|||CSCO|||YHOO\".split(\"|\"))"
   ]
  },
  {
   "cell_type": "code",
   "execution_count": 79,
   "metadata": {},
   "outputs": [
    {
     "name": "stdout",
     "output_type": "stream",
     "text": [
      "[0, 1, 99, 3, 4]\n"
     ]
    }
   ],
   "source": [
    "lst = list(lst)\n",
    "lst[2] = 99  # this updates lst in place ... in python, lists are mutable (modify them)\n",
    "print(lst)"
   ]
  },
  {
   "cell_type": "code",
   "execution_count": 81,
   "metadata": {},
   "outputs": [
    {
     "name": "stdout",
     "output_type": "stream",
     "text": [
      "None\n"
     ]
    }
   ],
   "source": [
    "print(lst.sort())  # ---> result ??  None? what does that mean?  (no return value)"
   ]
  },
  {
   "cell_type": "code",
   "execution_count": 82,
   "metadata": {},
   "outputs": [
    {
     "name": "stdout",
     "output_type": "stream",
     "text": [
      "[0, 1, 3, 4, 99]\n"
     ]
    }
   ],
   "source": [
    "print(lst)   # python didn't RETURN a sorted list ... it sorted the list IN-PLACE"
   ]
  },
  {
   "cell_type": "code",
   "execution_count": 83,
   "metadata": {},
   "outputs": [
    {
     "ename": "TypeError",
     "evalue": "'<' not supported between instances of 'NoneType' and 'float'",
     "output_type": "error",
     "traceback": [
      "\u001b[1;31m---------------------------------------------------------------------------\u001b[0m",
      "\u001b[1;31mTypeError\u001b[0m                                 Traceback (most recent call last)",
      "\u001b[1;32m<ipython-input-83-63f450cf310f>\u001b[0m in \u001b[0;36m<module>\u001b[1;34m()\u001b[0m\n\u001b[0;32m      1\u001b[0m \u001b[0mlst\u001b[0m \u001b[1;33m=\u001b[0m \u001b[1;33m[\u001b[0m\u001b[1;33m-\u001b[0m\u001b[1;36m5\u001b[0m\u001b[1;33m,\u001b[0m \u001b[1;36m3.14\u001b[0m\u001b[1;33m,\u001b[0m \u001b[1;32mNone\u001b[0m\u001b[1;33m,\u001b[0m \u001b[1;34m\"hello\"\u001b[0m\u001b[1;33m,\u001b[0m \u001b[1;32mTrue\u001b[0m\u001b[1;33m]\u001b[0m\u001b[1;33m\u001b[0m\u001b[0m\n\u001b[1;32m----> 2\u001b[1;33m \u001b[0mlst\u001b[0m\u001b[1;33m.\u001b[0m\u001b[0msort\u001b[0m\u001b[1;33m(\u001b[0m\u001b[1;33m)\u001b[0m\u001b[1;33m\u001b[0m\u001b[0m\n\u001b[0m\u001b[0;32m      3\u001b[0m \u001b[0mprint\u001b[0m \u001b[1;33m(\u001b[0m\u001b[0mlst\u001b[0m\u001b[1;33m)\u001b[0m   \u001b[1;31m# None is less than everything else\u001b[0m\u001b[1;33m\u001b[0m\u001b[0m\n\u001b[0;32m      4\u001b[0m \u001b[1;31m# strings are compared in lexicographic order ... dictionary order\u001b[0m\u001b[1;33m\u001b[0m\u001b[1;33m\u001b[0m\u001b[0m\n\u001b[0;32m      5\u001b[0m \u001b[1;31m# a < aardvard < amanda < bee\u001b[0m\u001b[1;33m\u001b[0m\u001b[1;33m\u001b[0m\u001b[0m\n",
      "\u001b[1;31mTypeError\u001b[0m: '<' not supported between instances of 'NoneType' and 'float'"
     ]
    }
   ],
   "source": [
    "lst = [-5, 3.14, None, \"hello\", True]\n",
    "lst.sort()\n",
    "print (lst)   # None is less than everything else\n",
    "# strings are compared in lexicographic order ... dictionary order\n",
    "# a < aardvard < amanda < bee"
   ]
  },
  {
   "cell_type": "markdown",
   "metadata": {},
   "source": [
    "### Odd & Ends"
   ]
  },
  {
   "cell_type": "code",
   "execution_count": 84,
   "metadata": {
    "collapsed": true
   },
   "outputs": [],
   "source": [
    "# example of a function\n",
    "def sumup(n):\n",
    "    ' a quick example of a python function (this is called docstring) '\n",
    "    acc = 0\n",
    "    for i in range(n+1):\n",
    "        acc += i  # acc = acc + i\n",
    "    return acc"
   ]
  },
  {
   "cell_type": "code",
   "execution_count": 85,
   "metadata": {},
   "outputs": [
    {
     "data": {
      "text/plain": [
       "5050"
      ]
     },
     "execution_count": 85,
     "metadata": {},
     "output_type": "execute_result"
    }
   ],
   "source": [
    "sumup(100)"
   ]
  },
  {
   "cell_type": "code",
   "execution_count": 86,
   "metadata": {},
   "outputs": [
    {
     "data": {
      "text/plain": [
       "5050"
      ]
     },
     "execution_count": 86,
     "metadata": {},
     "output_type": "execute_result"
    }
   ],
   "source": [
    "sum(range(101))  # up to , but not including"
   ]
  },
  {
   "cell_type": "code",
   "execution_count": 87,
   "metadata": {},
   "outputs": [
    {
     "name": "stdout",
     "output_type": "stream",
     "text": [
      "Help on function sumup in module __main__:\n",
      "\n",
      "sumup(n)\n",
      "    a quick example of a python function (this is called docstring)\n",
      "\n"
     ]
    }
   ],
   "source": [
    "help(sumup)  # help is populated by the docstring ... if a string is first in the function"
   ]
  },
  {
   "cell_type": "code",
   "execution_count": 197,
   "metadata": {},
   "outputs": [
    {
     "data": {
      "text/plain": [
       "['__doc__',\n",
       " '__file__',\n",
       " '__name__',\n",
       " '__package__',\n",
       " 'acos',\n",
       " 'acosh',\n",
       " 'asin',\n",
       " 'asinh',\n",
       " 'atan',\n",
       " 'atan2',\n",
       " 'atanh',\n",
       " 'ceil',\n",
       " 'copysign',\n",
       " 'cos',\n",
       " 'cosh',\n",
       " 'degrees',\n",
       " 'e',\n",
       " 'erf',\n",
       " 'erfc',\n",
       " 'exp',\n",
       " 'expm1',\n",
       " 'fabs',\n",
       " 'factorial',\n",
       " 'floor',\n",
       " 'fmod',\n",
       " 'frexp',\n",
       " 'fsum',\n",
       " 'gamma',\n",
       " 'hypot',\n",
       " 'isinf',\n",
       " 'isnan',\n",
       " 'ldexp',\n",
       " 'lgamma',\n",
       " 'log',\n",
       " 'log10',\n",
       " 'log1p',\n",
       " 'modf',\n",
       " 'pi',\n",
       " 'pow',\n",
       " 'radians',\n",
       " 'sin',\n",
       " 'sinh',\n",
       " 'sqrt',\n",
       " 'tan',\n",
       " 'tanh',\n",
       " 'trunc']"
      ]
     },
     "execution_count": 197,
     "metadata": {},
     "output_type": "execute_result"
    }
   ],
   "source": [
    "import math\n",
    "dir(math) # everything we can do from the math module"
   ]
  },
  {
   "cell_type": "code",
   "execution_count": 201,
   "metadata": {},
   "outputs": [
    {
     "data": {
      "text/plain": [
       "2.718281828459045"
      ]
     },
     "execution_count": 201,
     "metadata": {},
     "output_type": "execute_result"
    }
   ],
   "source": [
    "math.e"
   ]
  },
  {
   "cell_type": "code",
   "execution_count": 202,
   "metadata": {},
   "outputs": [
    {
     "data": {
      "text/plain": [
       "3.141592653589793"
      ]
     },
     "execution_count": 202,
     "metadata": {},
     "output_type": "execute_result"
    }
   ],
   "source": [
    "math.pi"
   ]
  },
  {
   "cell_type": "code",
   "execution_count": 203,
   "metadata": {},
   "outputs": [
    {
     "data": {
      "text/plain": [
       "-0.9999999999999999"
      ]
     },
     "execution_count": 203,
     "metadata": {},
     "output_type": "execute_result"
    }
   ],
   "source": [
    "math.cos(math.pi) + math.sin(math.pi)"
   ]
  },
  {
   "cell_type": "markdown",
   "metadata": {},
   "source": [
    "### Ipython Notebook versus Spyder"
   ]
  },
  {
   "cell_type": "markdown",
   "metadata": {},
   "source": [
    "I don't use spyder very often ... but I do use emacs and the interactive prompt a lot!\n",
    "\n",
    "  * when? or why?\n",
    "  * when i'm working on \"big\" system (more than a single file) [not tiny!?]\n",
    " \n",
    "Using ipython notebooks:\n",
    "\n",
    "  * when i'm either:\n",
    "    * exploring data and/or snipppets of code\n",
    "    * i can embed matplotlib graphics diretly in a notebook\n",
    "       * no separate window\n",
    "    * anytime i want to communicate with python\n",
    "      * if i'm writing blog post\n",
    "      * if i'm working on drafts (has code also) of paper/book/article/etc.\n",
    "\n",
    "$e^\\pi = x$"
   ]
  },
  {
   "cell_type": "markdown",
   "metadata": {},
   "source": [
    "### Quick yield example"
   ]
  },
  {
   "cell_type": "code",
   "execution_count": 88,
   "metadata": {
    "collapsed": true
   },
   "outputs": [],
   "source": [
    "def foo(x):\n",
    "    return x + 1  # <-- only return that happens\n",
    "    return x + 2\n",
    "    return x + 3"
   ]
  },
  {
   "cell_type": "code",
   "execution_count": 90,
   "metadata": {},
   "outputs": [
    {
     "name": "stdout",
     "output_type": "stream",
     "text": [
      "11\n"
     ]
    }
   ],
   "source": [
    "f = foo(10)\n",
    "print(f)"
   ]
  },
  {
   "cell_type": "code",
   "execution_count": 91,
   "metadata": {
    "collapsed": true
   },
   "outputs": [],
   "source": [
    "def bar(x):\n",
    "    yield x + 1 \n",
    "    yield x + 2\n",
    "    yield x + 3"
   ]
  },
  {
   "cell_type": "code",
   "execution_count": 92,
   "metadata": {},
   "outputs": [
    {
     "name": "stdout",
     "output_type": "stream",
     "text": [
      "<generator object bar at 0x0000018A6E5A0F10>\n"
     ]
    }
   ],
   "source": [
    "b = bar(10)\n",
    "print(b)   # <-- something weird"
   ]
  },
  {
   "cell_type": "code",
   "execution_count": 93,
   "metadata": {},
   "outputs": [
    {
     "data": {
      "text/plain": [
       "11"
      ]
     },
     "execution_count": 93,
     "metadata": {},
     "output_type": "execute_result"
    }
   ],
   "source": [
    "# dir(b) # <--- tell s me i can do next\n",
    "next(b)"
   ]
  },
  {
   "cell_type": "code",
   "execution_count": 94,
   "metadata": {},
   "outputs": [
    {
     "data": {
      "text/plain": [
       "12"
      ]
     },
     "execution_count": 94,
     "metadata": {},
     "output_type": "execute_result"
    }
   ],
   "source": [
    "next(b)"
   ]
  },
  {
   "cell_type": "code",
   "execution_count": 95,
   "metadata": {},
   "outputs": [
    {
     "data": {
      "text/plain": [
       "13"
      ]
     },
     "execution_count": 95,
     "metadata": {},
     "output_type": "execute_result"
    }
   ],
   "source": [
    "next(b)"
   ]
  },
  {
   "cell_type": "code",
   "execution_count": 96,
   "metadata": {},
   "outputs": [
    {
     "ename": "StopIteration",
     "evalue": "",
     "output_type": "error",
     "traceback": [
      "\u001b[1;31m---------------------------------------------------------------------------\u001b[0m",
      "\u001b[1;31mStopIteration\u001b[0m                             Traceback (most recent call last)",
      "\u001b[1;32m<ipython-input-96-ab5368f9245c>\u001b[0m in \u001b[0;36m<module>\u001b[1;34m()\u001b[0m\n\u001b[1;32m----> 1\u001b[1;33m \u001b[0mnext\u001b[0m\u001b[1;33m(\u001b[0m\u001b[0mb\u001b[0m\u001b[1;33m)\u001b[0m  \u001b[1;31m# run out of yields .... ->  StopIteration  (tells a for loop to stop loops)\u001b[0m\u001b[1;33m\u001b[0m\u001b[0m\n\u001b[0m",
      "\u001b[1;31mStopIteration\u001b[0m: "
     ]
    }
   ],
   "source": [
    "next(b)  # run out of yields .... ->  StopIteration  (tells a for loop to stop loops)"
   ]
  },
  {
   "cell_type": "markdown",
   "metadata": {},
   "source": [
    "### Palindrome"
   ]
  },
  {
   "cell_type": "code",
   "execution_count": 10,
   "metadata": {},
   "outputs": [
    {
     "name": "stdout",
     "output_type": "stream",
     "text": [
      "906609\n"
     ]
    }
   ],
   "source": [
    "import numpy as np\n",
    "\n",
    "a = np.array(range(1000))\n",
    "\n",
    "b = np.array(range(1000))\n",
    "\n",
    "c = np.meshgrid(a, b)\n",
    "\n",
    "d = c[0]*c[1]\n",
    "\n",
    "d = np.resize(d, 1000000)\n",
    "\n",
    "d_str = np.array(d, dtype = str)\n",
    "\n",
    "y = []\n",
    "\n",
    "for x in d_str:\n",
    "    \n",
    "    if x == x[::-1]:\n",
    "        #print 'Got One!'\n",
    "        y = np.append(y, x)\n",
    "\n",
    "final = np.array(y, dtype=int)\n",
    "\n",
    "ty = max(final)\n",
    "\n",
    "print(ty)"
   ]
  },
  {
   "cell_type": "code",
   "execution_count": null,
   "metadata": {
    "collapsed": true
   },
   "outputs": [],
   "source": []
  },
  {
   "cell_type": "code",
   "execution_count": null,
   "metadata": {
    "collapsed": true
   },
   "outputs": [],
   "source": []
  }
 ],
 "metadata": {
  "anaconda-cloud": {},
  "kernelspec": {
   "display_name": "Python [default]",
   "language": "python",
   "name": "python3"
  },
  "language_info": {
   "codemirror_mode": {
    "name": "ipython",
    "version": 3
   },
   "file_extension": ".py",
   "mimetype": "text/x-python",
   "name": "python",
   "nbconvert_exporter": "python",
   "pygments_lexer": "ipython3",
   "version": "3.5.2"
  }
 },
 "nbformat": 4,
 "nbformat_minor": 1
}
