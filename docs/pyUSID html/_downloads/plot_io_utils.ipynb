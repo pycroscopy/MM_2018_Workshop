{
  "cells": [
    {
      "cell_type": "code",
      "execution_count": null,
      "metadata": {
        "collapsed": false
      },
      "outputs": [],
      "source": [
        "%matplotlib inline"
      ]
    },
    {
      "cell_type": "markdown",
      "metadata": {},
      "source": [
        "\n======================================================================================\n11. Input / Output / Computing utilities\n======================================================================================\n\n**Suhas Somnath**\n\n8/12/2017\n\n**This is a short walk-through of useful utilities in pyUSID.io_utils that simplify common i/o and computational\ntasks.**\n\n"
      ]
    },
    {
      "cell_type": "code",
      "execution_count": null,
      "metadata": {
        "collapsed": false
      },
      "outputs": [],
      "source": [
        "from __future__ import print_function, division, unicode_literals\nfrom multiprocessing import cpu_count\nimport subprocess\nimport sys\n\ndef install(package):\n    subprocess.call([sys.executable, \"-m\", \"pip\", \"install\", package])\n# Package for downloading online files:\ntry:\n    import pyUSID as usid\nexcept ImportError:\n    print('pyUSID not found.  Will install with pip.')\n    import pip\n    install('pyUSID')\n    import pyUSID as usid"
      ]
    },
    {
      "cell_type": "markdown",
      "metadata": {},
      "source": [
        "Computation related utilities\n===============================\nrecommend_cpu_cores()\n---------------------\nTime is of the essence and every developer wants to make the best use of all available cores in a CPU for massively\nparallel computations. ``recommend_cpu_cores()`` is a popular function that looks at the number of parallel operations,\navailable CPU cores, duration of each computation to recommend the number of cores that should be used for any\ncomputation. If the developer / user requests the use of N CPU cores, this function will validate this number against\nthe number of available cores and the nature (lengthy / quick) of each computation. Unless, a suggested number of\ncores is specified, ``recommend_cpu_cores()`` will always recommend the usage of N-2 CPU cores, where N is the total\nnumber of logical cores (Intel uses hyper-threading) on the CPU to avoid using up all computational resources and\npreventing the computation from making the computer otherwise unusable until the computation is complete\nHere, we demonstrate this function being used in a few use cases:\n\n"
      ]
    },
    {
      "cell_type": "code",
      "execution_count": null,
      "metadata": {
        "collapsed": false
      },
      "outputs": [],
      "source": [
        "print('This CPU has {} cores available'.format(cpu_count()))"
      ]
    },
    {
      "cell_type": "markdown",
      "metadata": {},
      "source": [
        "**Case 1**: several independent computations or jobs, each taking far less than 1 second. The number of desired cores\nis not specified. The function will return 2 lesser than the total number of cores on the CPU\n\n"
      ]
    },
    {
      "cell_type": "code",
      "execution_count": null,
      "metadata": {
        "collapsed": false
      },
      "outputs": [],
      "source": [
        "num_jobs = 14035\nrecommeded_cores = usid.io_utils.recommend_cpu_cores(num_jobs, lengthy_computation=False)\nprint('Recommended number of CPU cores for {} independent, FAST, and parallel '\n      'computations is {}\\n'.format(num_jobs, recommeded_cores))"
      ]
    },
    {
      "cell_type": "markdown",
      "metadata": {},
      "source": [
        "**Case 2**: Several independent and fast computations, and the function is asked if 3 cores is OK. In this case, the\nfunction will allow the usage of the 3 cores so long as the CPU actually has 3 or more cores\n\n"
      ]
    },
    {
      "cell_type": "code",
      "execution_count": null,
      "metadata": {
        "collapsed": false
      },
      "outputs": [],
      "source": [
        "requested_cores = 3\nrecommeded_cores = usid.io_utils.recommend_cpu_cores(num_jobs, requested_cores=requested_cores, lengthy_computation=False)\nprint('Recommended number of CPU cores for {} independent, FAST, and parallel '\n      'computations using the requested {} CPU cores is {}\\n'.format(num_jobs, requested_cores, recommeded_cores))"
      ]
    },
    {
      "cell_type": "markdown",
      "metadata": {},
      "source": [
        "**Case 3**: Far fewer independent and fast computations, and the function is asked if 3 cores is OK. In this case,\nconfiguring multiple cores for parallel computations will probably be slower than serial computation with a single\ncore. Hence, the function will recommend the use of only one core in this case.\n\n"
      ]
    },
    {
      "cell_type": "code",
      "execution_count": null,
      "metadata": {
        "collapsed": false
      },
      "outputs": [],
      "source": [
        "num_jobs = 13\nrecommeded_cores = usid.io_utils.recommend_cpu_cores(num_jobs, requested_cores=requested_cores, lengthy_computation=False)\nprint('Recommended number of CPU cores for {} independent, FAST, and parallel '\n      'computations using the requested {} CPU cores is {}\\n'.format(num_jobs, requested_cores, recommeded_cores))"
      ]
    },
    {
      "cell_type": "markdown",
      "metadata": {},
      "source": [
        "**Case 4**: The same number of a few independent computations but eahc of these computations are expected to be\nlengthy. In this case, the overhead of configuring the CPU core for parallel computing is worth the benefit of\nparallel computation. Hence, the function will allow the use of the 3 cores even though the number of computations is\nsmall.\n\n"
      ]
    },
    {
      "cell_type": "code",
      "execution_count": null,
      "metadata": {
        "collapsed": false
      },
      "outputs": [],
      "source": [
        "recommeded_cores = usid.io_utils.recommend_cpu_cores(num_jobs, requested_cores=requested_cores, lengthy_computation=True)\nprint('Recommended number of CPU cores for {} independent, SLOW, and parallel '\n      'computations using the requested {} CPU cores is {}'.format(num_jobs, requested_cores, recommeded_cores))"
      ]
    },
    {
      "cell_type": "markdown",
      "metadata": {},
      "source": [
        "get_available_memory()\n----------------------\nAmong the many best-practices we follow when developing a new data analysis or processing class is memory-safe\ncomputation. This handy function helps us quickly get the available memory. Note that this function returns the\navailable memory in bytes. So, we have converted it to gigabytes here:\n\n"
      ]
    },
    {
      "cell_type": "code",
      "execution_count": null,
      "metadata": {
        "collapsed": false
      },
      "outputs": [],
      "source": [
        "print('Available memory in this machine: {} GB'.format(usid.io_utils.get_available_memory()/1024**3))"
      ]
    },
    {
      "cell_type": "markdown",
      "metadata": {},
      "source": [
        "String formatting utilities\n===========================\nFrequently, there is a need to print out logs on the console to inform the user about the size of files, or estimated\ntime remaining for a computation to complete, etc. pyUSID.io_utils has a few handy functions that help in\nformatting quantities in a human readable format.\n\nformat_size()\n--------------\nOne function that uses this functionality to print the size of files etc. is format_size(). While one can manually\nprint the available memory in gibibytes (see above), ``format_size()`` simplifies this substantially:\n\n"
      ]
    },
    {
      "cell_type": "code",
      "execution_count": null,
      "metadata": {
        "collapsed": false
      },
      "outputs": [],
      "source": [
        "print('Available memory in this machine: {}'.format(usid.io_utils.format_size(usid.io_utils.get_available_memory())))"
      ]
    },
    {
      "cell_type": "markdown",
      "metadata": {},
      "source": [
        "format_time()\n-------------\nOn the same lines, ``format_time()`` is another handy function that is great at formatting time and is often used in\nProcess and Fitter to print the remaining time\n\n"
      ]
    },
    {
      "cell_type": "code",
      "execution_count": null,
      "metadata": {
        "collapsed": false
      },
      "outputs": [],
      "source": [
        "print('{} seconds = {}'.format(14497.34, usid.io_utils.format_time(14497.34)))"
      ]
    },
    {
      "cell_type": "markdown",
      "metadata": {},
      "source": [
        "format_quantity()\n-----------------\nYou can generate your own formatting function based using the generic function: ``format_quantity()``.\nFor example, if ``format_time()`` were not available, we could get the same functionality via:\n\n"
      ]
    },
    {
      "cell_type": "code",
      "execution_count": null,
      "metadata": {
        "collapsed": false
      },
      "outputs": [],
      "source": [
        "units = ['msec', 'sec', 'mins', 'hours']\nfactors = [0.001, 1, 60, 3600]\ntime_value = 14497.34\nprint('{} seconds = {}'.format(14497.34, usid.io_utils.format_quantity(time_value, units, factors)))"
      ]
    },
    {
      "cell_type": "markdown",
      "metadata": {},
      "source": [
        "formatted_str_to_number()\n-------------------------\npyUSID also has a handy function for the inverse problem of getting a numeric value from a formatted string:\n\n"
      ]
    },
    {
      "cell_type": "code",
      "execution_count": null,
      "metadata": {
        "collapsed": false
      },
      "outputs": [],
      "source": [
        "unit_names = [\"MHz\", \"kHz\"]\nunit_magnitudes = [1E+6, 1E+3]\nstr_value = \"4.32 MHz\"\nnum_value = usid.io_utils.formatted_str_to_number(str_value, unit_names, unit_magnitudes, separator=' ')\nprint('formatted_str_to_number says: {} = {}'.format(str_value, num_value))"
      ]
    },
    {
      "cell_type": "markdown",
      "metadata": {},
      "source": [
        "get_time_stamp()\n----------------\nWe try to use a standardized format for storing time stamps in HDF5 files. The function below generates the time\nas a string that can be easily parsed if need be\n\n"
      ]
    },
    {
      "cell_type": "code",
      "execution_count": null,
      "metadata": {
        "collapsed": false
      },
      "outputs": [],
      "source": [
        "print('Current time is: {}'.format(usid.io_utils.get_time_stamp()))"
      ]
    },
    {
      "cell_type": "markdown",
      "metadata": {},
      "source": [
        "Communication utilities\n========================\nfile_dialog()\n-------------\nThis handy function generates a file window to select files. We encourage you to try this function out since it cannot\ndemonstrated within this static document.\n\ncheck_ssh()\n-----------\nWhen developing workflows that need to work on remote or virtual machines in addition to one's own personal computer\nsuch as a laptop, this function is handy at letting the developer know where the code is being executed\n\n"
      ]
    },
    {
      "cell_type": "code",
      "execution_count": null,
      "metadata": {
        "collapsed": false
      },
      "outputs": [],
      "source": [
        "print('Running on remote machine: {}'.format(usid.io_utils.check_ssh()))"
      ]
    }
  ],
  "metadata": {
    "kernelspec": {
      "display_name": "Python 3",
      "language": "python",
      "name": "python3"
    },
    "language_info": {
      "codemirror_mode": {
        "name": "ipython",
        "version": 3
      },
      "file_extension": ".py",
      "mimetype": "text/x-python",
      "name": "python",
      "nbconvert_exporter": "python",
      "pygments_lexer": "ipython3",
      "version": "3.6.6"
    }
  },
  "nbformat": 4,
  "nbformat_minor": 0
}