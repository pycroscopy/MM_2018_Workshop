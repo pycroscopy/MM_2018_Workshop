{
  "cells": [
    {
      "cell_type": "code",
      "execution_count": null,
      "metadata": {
        "collapsed": false
      },
      "outputs": [],
      "source": [
        "%matplotlib inline"
      ]
    },
    {
      "cell_type": "markdown",
      "metadata": {},
      "source": [
        "\n======================================================================================\n04. Plotting utilities\n======================================================================================\n\n**Suhas Somnath**\n\n8/12/2017\n\n**This is a short walkthrough of useful plotting utilities available in pyUSID**\n\nIntroduction\n--------------\nSome of the functions in ``pyUSID.plot_utils`` fill gaps in the default matplotlib package, some were\ndeveloped for scientific applications, and others were developed specifically\nfor handling **Universal Spectroscopy and Imaging Data (USID)** ``main`` datasets. These functions have been developed\nto substantially simplify the generation of high quality figures for journal publications.\n\n"
      ]
    },
    {
      "cell_type": "code",
      "execution_count": null,
      "metadata": {
        "collapsed": false
      },
      "outputs": [],
      "source": [
        "# Ensure python 3 compatibility:\nfrom __future__ import division, print_function, absolute_import, unicode_literals\nimport numpy as np\nfrom warnings import warn\nimport matplotlib.pyplot as plt\nimport subprocess\nimport sys\n\n\ndef install(package):\n    subprocess.call([sys.executable, \"-m\", \"pip\", \"install\", package])\n# Package for downloading online files:\ntry:\n    import pyUSID as usid\nexcept ImportError:\n    warn('pyUSID not found.  Will install with pip.')\n    import pip\n    install('pyUSID')\n    import pyUSID as usid"
      ]
    },
    {
      "cell_type": "markdown",
      "metadata": {},
      "source": [
        "1D plot utilities\n===========================\nplot_curves()\n--------------\nThis function is particularly useful when we need to plot a 1D signal acquired at multiple locations.\nThe function is rather flexible and can take on several optional arguments that will be alluded to below\nIn the below example, we are simply simulating sine waveforms for different frequencies (think of these as\ndifferent locations on a sample)\n\n"
      ]
    },
    {
      "cell_type": "code",
      "execution_count": null,
      "metadata": {
        "collapsed": false
      },
      "outputs": [],
      "source": [
        "x_vec = np.linspace(0, 2*np.pi, 256)\n# The different frequencies:\nfreqs = np.linspace(0.5, 5, 9)\n# Generating the signals at the different \"positions\"\ny_mat = np.array([np.sin(freq * x_vec) for freq in freqs])\n\nusid.plot_utils.plot_curves(x_vec, y_mat)"
      ]
    },
    {
      "cell_type": "markdown",
      "metadata": {},
      "source": [
        "Frequently, we may need to compare signals from two different datasets for the same positions\nThe same plot_curves function can be used for this purpose even if the signal lengths / resolutions are different\n\n"
      ]
    },
    {
      "cell_type": "code",
      "execution_count": null,
      "metadata": {
        "collapsed": false
      },
      "outputs": [],
      "source": [
        "x_vec_1 = np.linspace(0, 2*np.pi, 256)\nx_vec_2 = np.linspace(0, 2*np.pi, 32)\nfreqs = np.linspace(0.5, 5, 9)\ny_mat_1 = np.array([np.sin(freq * x_vec_1) for freq in freqs])\ny_mat_2 = np.array([np.cos(freq * x_vec_2) for freq in freqs])\n\nusid.plot_utils.plot_curves([x_vec_1, x_vec_2], [y_mat_1, y_mat_2],\n                          title='Sine and Cosine of different resolutions')"
      ]
    },
    {
      "cell_type": "markdown",
      "metadata": {},
      "source": [
        "plot_line_family()\n-------------------\nOften there is a need to visualize multiple spectra or signals on the same plot. plot_line_family\nis a handy function ideally suited for this purpose and it is highly configurable for different styles and purposes\nA few example applications include visualizing X ray / IR spectra (with y offsets), centroids from clustering\nalgorithms\n\n"
      ]
    },
    {
      "cell_type": "code",
      "execution_count": null,
      "metadata": {
        "collapsed": false
      },
      "outputs": [],
      "source": [
        "x_vec = np.linspace(0, 2*np.pi, 256)\nfreqs = range(1, 5)\ny_mat = np.array([np.sin(freq * x_vec) for freq in freqs])\nfreq_strs = [str(_) for _ in freqs]\n\nfig, axes = plt.subplots(ncols=3, figsize=(12, 4))\nusid.plot_utils.plot_line_family(axes[0], x_vec, y_mat)\naxes[0].set_title('Basic line family')\n\n# Option suitable for visualiing spectra with y offsets:\nusid.plot_utils.plot_line_family(axes[1], x_vec, y_mat, \n                               line_names=freq_strs, label_prefix='Freq = ', label_suffix='Hz',\n                                 y_offset=2.5)\naxes[1].legend()\naxes[1].set_title('Line family with legend')\n\n# Option highly suited for visualizing the centroids from a clustering algorithm:\nusid.plot_utils.plot_line_family(axes[2], x_vec, y_mat, \n                               line_names=freq_strs, label_prefix='Freq = ', label_suffix='Hz',\n                                 y_offset=2.5, show_cbar=True)\naxes[2].set_title('Line family with colorbar')"
      ]
    },
    {
      "cell_type": "markdown",
      "metadata": {},
      "source": [
        "plot_complex_spectra()\n-----------------------\nThis handy function plots the amplitude and phase components of multiple complex valued spectra\nHere we simulate the signal coming from a simple harmonic oscillator (SHO). \n\n"
      ]
    },
    {
      "cell_type": "code",
      "execution_count": null,
      "metadata": {
        "collapsed": false
      },
      "outputs": [],
      "source": [
        "num_spectra = 4\nspectra_length = 77\nw_vec = np.linspace(300, 350, spectra_length)\namps = np.random.rand(num_spectra)\nfreqs = np.random.rand(num_spectra)*35 + 310\nq_facs = np.random.rand(num_spectra)*25 + 50\nphis = np.random.rand(num_spectra)*2*np.pi\nspectra = np.zeros((num_spectra, spectra_length), dtype=np.complex)\n\n\ndef sho_resp(parms, w_vec):\n    \"\"\"\n    Generates the SHO response over the given frequency band\n    Parameters\n    -----------\n    parms : list or tuple\n        SHO parae=(A,w0,Q,phi)\n    w_vec : 1D numpy array\n        Vector of frequency values\n    \"\"\"\n    return parms[0] * np.exp(1j * parms[3]) * parms[1] ** 2 / \\\n        (w_vec ** 2 - 1j * w_vec * parms[1] / parms[2] - parms[1] ** 2)\n\n\nfor index, amp, freq, qfac, phase in zip(range(num_spectra), amps, freqs, q_facs, phis):\n    spectra[index] = sho_resp((amp, freq, qfac, phase), w_vec)\n\nfig, axis = usid.plot_utils.plot_complex_spectra(spectra, w_vec, title='Oscillator responses')"
      ]
    },
    {
      "cell_type": "markdown",
      "metadata": {},
      "source": [
        "rainbow_plot()\n---------------\nThis function is ideally suited for visualizing a signal that varies as a function of time or when \nthe directionality of the signal is important\n\n"
      ]
    },
    {
      "cell_type": "code",
      "execution_count": null,
      "metadata": {
        "collapsed": false
      },
      "outputs": [],
      "source": [
        "num_pts = 1024\nt_vec = np.linspace(0, 10*np.pi, num_pts)\n\nfig, axis = plt.subplots(figsize=(4, 4))\nusid.plot_utils.rainbow_plot(axis, np.cos(t_vec)*np.linspace(0, 1, num_pts),\n                           np.sin(t_vec)*np.linspace(0, 1, num_pts),\n                           num_steps=32)"
      ]
    },
    {
      "cell_type": "markdown",
      "metadata": {},
      "source": [
        "cbar_for_line_plot()\n---------------------\nNote that from the above plot it may not be clear if the signal is radiating outwards or spiraling inwards.\nIn these cases it helps to add a colorbar. However, colorbars can typically only be added for 2D images.\nIn such cases we can use a handy function: ``cbar_for_line_plot()``\n\n"
      ]
    },
    {
      "cell_type": "code",
      "execution_count": null,
      "metadata": {
        "collapsed": false
      },
      "outputs": [],
      "source": [
        "num_pts = 1024\nt_vec = np.linspace(0, 10*np.pi, num_pts)\n\nfig, axis = plt.subplots(figsize=(4.5, 4))\nusid.plot_utils.rainbow_plot(axis, np.cos(t_vec)*np.linspace(0, 1, num_pts),\n                           np.sin(t_vec)*np.linspace(0, 1, num_pts),\n                           num_steps=32)\n\ncbar = usid.plot_utils.cbar_for_line_plot(axis, 10)\ncbar.set_label('Time (sec)')"
      ]
    },
    {
      "cell_type": "markdown",
      "metadata": {},
      "source": [
        "plot_scree()\n------------\nOne of the results of applying Singular Value Decomposition is the variance or statistical significance\nof the resultant components. This data is best visualized via a log-log plot and plot_scree is available\nexclusively to visualize this kind of data\n\n"
      ]
    },
    {
      "cell_type": "code",
      "execution_count": null,
      "metadata": {
        "collapsed": false
      },
      "outputs": [],
      "source": [
        "scree = np.exp(-1 * np.arange(100))\nusid.plot_utils.plot_scree(scree, color='r')"
      ]
    },
    {
      "cell_type": "markdown",
      "metadata": {},
      "source": [
        "Colormaps\n=========\nplot_utils has a handful of colormaps suited for different applications.\n\ncmap_jet_white_center()\n-----------------------\nThis is the standard jet colormap with a white center instead of green. This is a good colormap for images with \ndivergent data (data that diverges slightly both positively and negatively from the mean). \nOne example target is the ronchigrams from scanning transmission electron microscopy (STEM)\n\ncmap_hot_desaturated()\n----------------------\nThis is a desaturated version of the  standard jet colormap\n\ndiscrete_cmap()\n---------------\nThis function helps create a discretized version of the provided colormap. This is ideally suited when the data\nonly contains a few discrete values. One popular application is the visualization of labels from a clustering\nalgorithm\n\n"
      ]
    },
    {
      "cell_type": "code",
      "execution_count": null,
      "metadata": {
        "collapsed": false
      },
      "outputs": [],
      "source": [
        "x_vec = np.linspace(0, 2*np.pi, 256)\ny_vec = np.sin(x_vec)\n\ntest = y_vec * np.atleast_2d(y_vec).T\n\nfig, axes = plt.subplots(ncols=2, nrows=2, figsize=(10, 10))\nfor axis, title, cmap in zip(axes.flat, \n                             ['Jet', \n                              'Jet with white center',\n                              'Jet desaturated',\n                              'Jet discretized'], \n                             [plt.cm.jet, \n                              usid.plot_utils.cmap_jet_white_center(),\n                              usid.plot_utils.cmap_hot_desaturated(), \n                              usid.plot_utils.discrete_cmap(8, cmap='jet')]):\n    im_handle = axis.imshow(test, cmap=cmap)\n    cbar = plt.colorbar(im_handle, ax=axis, orientation='vertical',\n                        fraction=0.046, pad=0.04, use_gridspec=True)\n    axis.set_title(title)\nfig.tight_layout()"
      ]
    },
    {
      "cell_type": "markdown",
      "metadata": {},
      "source": [
        "make_linear_alpha_cmap()\n------------------------\nOn certain occasions we may want to superimpose one image with another. However, this is not possible\nby default since colormaps involve solid colors. This function allows one to plot multiple images using\na transparent-to-solid colormap. Here we will demonstrate this by plotting blobs representing atomic columns\nover some background intensity.\n\n"
      ]
    },
    {
      "cell_type": "code",
      "execution_count": null,
      "metadata": {
        "collapsed": false
      },
      "outputs": [],
      "source": [
        "num_pts = 256\n\nfig, axis = plt.subplots()\naxis.hold(True)\n\n# Prepare some backround signal\nx_mat, y_mat = np.meshgrid(np.linspace(-0.2*np.pi, 0.1*np.pi, num_pts), np.linspace(0, 0.25*np.pi, num_pts))\nbackground_distortion = 0.2 * (x_mat + y_mat + np.sin(0.25 * np.pi * x_mat))\n\n# plot this signal in grey\naxis.imshow(background_distortion, cmap='Greys')\n\n# prepare the signal of interest (think of this as intensities in a HREM dataset)\nx_vec = np.linspace(0, 6*np.pi, num_pts)\ny_vec = np.sin(x_vec)**2\natom_intensities = y_vec * np.atleast_2d(y_vec).T\n\n# prepare the transparent-to-solid colormap\nsolid_color = plt.cm.jet(0.8)\ntranslucent_colormap = usid.plot_utils.make_linear_alpha_cmap('my_map', solid_color, \n                                                            1, min_alpha=0, max_alpha=1)\n\n# plot the atom intensities using the custom colormap\nim_handle = axis.imshow(atom_intensities, cmap=translucent_colormap)\ncbar = plt.colorbar(im_handle, ax=axis, orientation='vertical',\n                        fraction=0.046, pad=0.04, use_gridspec=True)"
      ]
    },
    {
      "cell_type": "markdown",
      "metadata": {},
      "source": [
        "get_cmap_object()\n-----------------\nThis function is useful more for developers writing their own plotting functions that need to manipulate the\ncolormap object. This function makes it easy to ensure that you are working on the colormap object and not the\nstring name of the colormap (both of which are accepted by most matplotlib functions).\nHere we simply compare the returned values when passing both the colormap object and the string name of the colormap\n\n"
      ]
    },
    {
      "cell_type": "code",
      "execution_count": null,
      "metadata": {
        "collapsed": false
      },
      "outputs": [],
      "source": [
        "usid.plot_utils.get_cmap_object('jet') == usid.plot_utils.get_cmap_object(plt.cm.jet)"
      ]
    },
    {
      "cell_type": "markdown",
      "metadata": {},
      "source": [
        "2D plot utilities\n==================\nplot_map()\n-----------\nThis function adds several popularly used features to the basic image plotting function in matplotlib including:\n\n* easy addition of a colorbar\n* custom x and y tick values\n* clipping the colorbar to N standard deviations of the mean\n\n"
      ]
    },
    {
      "cell_type": "code",
      "execution_count": null,
      "metadata": {
        "collapsed": false
      },
      "outputs": [],
      "source": [
        "x_vec = np.linspace(0, 6*np.pi, 256)\ny_vec = np.sin(x_vec)**2\n\natom_intensities = y_vec * np.atleast_2d(y_vec).T\n\nfig, axes = plt.subplots(ncols=2, figsize=(10, 5))\n# Standard imshow plot for reference\naxes[0].imshow(atom_intensities, origin='lower')\naxes[0].set_title('Standard imshow')\n# Now plot_map with some options enabled:\nusid.plot_utils.plot_map(axes[1], atom_intensities, stdevs=1.5, num_ticks=4,\n                       x_vec=np.linspace(-1, 1, atom_intensities.shape[0]),\n                       y_vec=np.linspace(0, 500, atom_intensities.shape[1]),\n                       cbar_label='intensity (a. u.)', tick_font_size=16)\naxes[1].set_title('plot_map')\nfig.tight_layout()"
      ]
    },
    {
      "cell_type": "markdown",
      "metadata": {},
      "source": [
        "plot_map_stack()\n-----------------\nOne of the most popular operations in scientific research is the visualization of a stack of images.\nThis function is built specifically for that purpose. \nHere we simply simulate some images using sinusoidal functions for demonstration purposes.\n\n"
      ]
    },
    {
      "cell_type": "code",
      "execution_count": null,
      "metadata": {
        "collapsed": false
      },
      "outputs": [],
      "source": [
        "def get_sine_2d_image(freq):\n    x_vec = np.linspace(0, freq*np.pi, 256)\n    y_vec = np.sin(x_vec)**2\n    return y_vec * np.atleast_2d(y_vec).T\n\n\nfrequencies = [0.25, 0.5, 1, 2, 4 ,8, 16, 32, 64]\nimage_stack = [get_sine_2d_image(freq) for freq in frequencies]\nimage_stack = np.array(image_stack)\n\nfig, axes = usid.plot_utils.plot_map_stack(image_stack, reverse_dims=False, title_yoffset=0.95)"
      ]
    },
    {
      "cell_type": "markdown",
      "metadata": {},
      "source": [
        "plot_complex_spectra()\n----------------------\nThis function plots the amplitude and phase components of a stack of complex valued 2D images.\nHere we simulate the data using sine and cosine components\n\n"
      ]
    },
    {
      "cell_type": "code",
      "execution_count": null,
      "metadata": {
        "collapsed": false
      },
      "outputs": [],
      "source": [
        "def get_complex_2d_image(freq):\n    # Simple function to generate images\n    x_vec = np.linspace(0, freq*np.pi, 256)\n    y_vec_1 = np.sin(x_vec)**2\n    y_vec_2 = np.cos(x_vec)**2\n    return y_vec_2 * np.atleast_2d(y_vec_2).T + 1j*(y_vec_1 * np.atleast_2d(y_vec_1).T)\n\n\n# The range of frequences over which the images are generated\nfrequencies = 2 ** np.arange(4)\nimage_stack = [get_complex_2d_image(freq) for freq in frequencies]\n\nfig, axes = usid.plot_utils.plot_complex_spectra(np.array(image_stack), figsize=(3.5, 3))"
      ]
    },
    {
      "cell_type": "markdown",
      "metadata": {},
      "source": [
        "General Utilities\n==================\nset_tick_font_size()\n---------------------\nAdjusting the font sizes of the tick marks is often necessary for preparing figures for journal papers.\nHowever, adjusting the tick sizes is actually tedious in python and this function makes this easier.\n\n"
      ]
    },
    {
      "cell_type": "code",
      "execution_count": null,
      "metadata": {
        "collapsed": false
      },
      "outputs": [],
      "source": [
        "test = np.random.rand(10, 10)\n\nfig, axes = plt.subplots(ncols=2, figsize=(8, 4))\nfor axis, title in zip(axes, ['Default', 'Custom']):\n    axis.imshow(test)\n    axis.set_title(title + ' tick size')\n# only changing the tick font size on the second plot:\nusid.plot_utils.set_tick_font_size(axes[1], 24)\nfig.tight_layout()"
      ]
    },
    {
      "cell_type": "markdown",
      "metadata": {},
      "source": [
        "get_plot_grid_size()\n---------------------\nThis handy function figures out the layout for a 2D grid of sub-plots given a desired number of plots\n\n"
      ]
    },
    {
      "cell_type": "code",
      "execution_count": null,
      "metadata": {
        "collapsed": false
      },
      "outputs": [],
      "source": [
        "print('Subfigures\\tFewer Rows\\tFewer Columns')\nfor num_plots in range(1, 17):\n    print('{}\\t\\t{}\\t\\t{}'.format(num_plots,\n                              usid.plot_utils.get_plot_grid_size(num_plots, fewer_rows=True),\n                              usid.plot_utils.get_plot_grid_size(num_plots, fewer_rows=False)))"
      ]
    },
    {
      "cell_type": "markdown",
      "metadata": {},
      "source": [
        "make_scalar_mappable()\n----------------------\nThis is a low-level function that is used by ``cbar_for_line_plot()`` to generate the color bar manually.\nHere we revisit the example for plot_line_family() but we generate the colorbar by hand using\n``make_scalar_mappable()``. In this case, we make the colorbar horizontal just as an example.\n\n"
      ]
    },
    {
      "cell_type": "code",
      "execution_count": null,
      "metadata": {
        "collapsed": false
      },
      "outputs": [],
      "source": [
        "x_vec = np.linspace(0, 2*np.pi, 256)\nfreqs = range(1, 5)\ny_mat = np.array([np.sin(freq * x_vec) for freq in freqs])\n\nfig, axis = plt.subplots(figsize=(4, 4.75))\nusid.plot_utils.plot_line_family(axis, x_vec, y_mat)\n\nnum_steps = len(freqs)\n\nsm = usid.plot_utils.make_scalar_mappable(1, num_steps+1)\n\ncbar = plt.colorbar(sm, ax=axis, orientation='horizontal',\n                    pad=0.04, use_gridspec=True)"
      ]
    },
    {
      "cell_type": "markdown",
      "metadata": {},
      "source": [
        "cmap_from_rgba()\n----------------\nThis function is handy for converting a Matlab-style colormap instructions (lists of [reg, green, blue, alpha]) to\nmatplotlib's style:\n\n"
      ]
    },
    {
      "cell_type": "code",
      "execution_count": null,
      "metadata": {
        "collapsed": false
      },
      "outputs": [],
      "source": [
        "hot_desaturated = [(255.0, (255, 76, 76, 255)),\n                   (218.5, (107, 0, 0, 255)),\n                   (182.1, (255, 96, 0, 255)),\n                   (145.6, (255, 255, 0, 255)),\n                   (109.4, (0, 127, 0, 255)),\n                   (72.675, (0, 255, 255, 255)),\n                   (36.5, (0, 0, 91, 255)),\n                   (0, (71, 71, 219, 255))]\n\nnew_cmap = usid.plot_utils.cmap_from_rgba('hot_desaturated', hot_desaturated, 255)\n\nx_vec = np.linspace(0, 2*np.pi, 256)\ny_vec = np.sin(x_vec)\n\ntest = y_vec * np.atleast_2d(y_vec).T\n\nfig, axes = plt.subplots(ncols=2, figsize=(10, 5))\nfor axis, title, cmap in zip(axes.flat,\n                             ['Jet', 'Jet desaturated'],\n                             [plt.cm.jet, new_cmap]):\n    im_handle = axis.imshow(test, cmap=cmap)\n    cbar = plt.colorbar(im_handle, ax=axis, orientation='vertical',\n                        fraction=0.046, pad=0.04, use_gridspec=True)\n    axis.set_title(title)\nfig.tight_layout()"
      ]
    },
    {
      "cell_type": "markdown",
      "metadata": {},
      "source": [
        "use_nice_plot_params()\n----------------------\nThis function changes the default plotting parameters so that the figures look nicer and are closer to publication-\nready figures. Note that all subsequent plots will be generated using the new defaults\n\nreset_plot_params()\n-------------------\nThis function resets the plot parameters to matplotlib defaults.\nThe following sequence of default >> nice >> default parameters will illustrate this.\n\n"
      ]
    },
    {
      "cell_type": "code",
      "execution_count": null,
      "metadata": {
        "collapsed": false
      },
      "outputs": [],
      "source": [
        "x_vec = np.linspace(0, 2*np.pi, 256)\nfreqs = range(1, 5)\ny_mat = np.array([np.sin(freq * x_vec) for freq in freqs])\n\nfor nice in [False, True, False]:\n    if nice:\n        usid.plot_utils.use_nice_plot_params()\n    else:\n        usid.plot_utils.reset_plot_params()\n    fig, axis = plt.subplots(figsize=(4, 4))\n    usid.plot_utils.plot_line_family(axis, x_vec, y_mat)\n    axis.set_xlabel('Time (sec)')\n    axis.set_ylabel('Amplitude (a. u.)')\n    if nice:\n        axis.set_title('Nice')\n    else:\n        axis.set_title('Default')"
      ]
    }
  ],
  "metadata": {
    "kernelspec": {
      "display_name": "Python 3",
      "language": "python",
      "name": "python3"
    },
    "language_info": {
      "codemirror_mode": {
        "name": "ipython",
        "version": 3
      },
      "file_extension": ".py",
      "mimetype": "text/x-python",
      "name": "python",
      "nbconvert_exporter": "python",
      "pygments_lexer": "ipython3",
      "version": "3.6.6"
    }
  },
  "nbformat": 4,
  "nbformat_minor": 0
}