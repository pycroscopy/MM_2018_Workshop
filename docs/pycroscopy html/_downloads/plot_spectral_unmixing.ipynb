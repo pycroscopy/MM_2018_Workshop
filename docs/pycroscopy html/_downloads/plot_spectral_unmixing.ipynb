{
  "cells": [
    {
      "cell_type": "code",
      "execution_count": null,
      "metadata": {
        "collapsed": false
      },
      "outputs": [],
      "source": [
        "%matplotlib inline"
      ]
    },
    {
      "cell_type": "markdown",
      "metadata": {},
      "source": [
        "\n# Spectral Unmixing\n\n\nSuhas Somnath, Rama K. Vasudevan, Stephen Jesse\n\n* Institute for Functional Imaging of Materials\n* Center for Nanophase Materials Sciences\n\nOak Ridge National Laboratory, Oak Ridge TN 37831, USA\n\nIn this notebook we load some spectral data, and perform basic data analysis, including:\n========================================================================================\n* KMeans Clustering\n* Non-negative Matrix Factorization\n* Principal Component Analysis\n\nSoftware Prerequisites:\n=======================\n* Standard distribution of **Anaconda** (includes numpy, scipy, matplotlib and sci-kit learn)\n* **pycroscopy** : Though pycroscopy is mainly used here for plotting purposes only, it's true capabilities\n  are realized through the ability to seamlessly perform these analyses on any imaging dataset (regardless\n  of origin, size, complexity) and storing the results back into the same dataset among other things\n\n\n"
      ]
    },
    {
      "cell_type": "code",
      "execution_count": null,
      "metadata": {
        "collapsed": false
      },
      "outputs": [],
      "source": [
        "# Import packages\n\n# Ensure that this code works on both python 2 and python 3\nfrom __future__ import division, print_function, absolute_import, unicode_literals\n\n# basic numeric computation:\nimport numpy as np\n\n# The package used for creating and manipulating HDF5 files:\nimport h5py\n\n# Plotting and visualization:\nimport matplotlib.pyplot as plt\n\n# for downloading files:\nimport wget\nimport os\n\n# multivariate analysis:\nfrom sklearn.cluster import KMeans\nfrom sklearn.decomposition import NMF\nimport subprocess\nimport sys\n\ndef install(package):\n    subprocess.call([sys.executable, \"-m\", \"pip\", \"install\", package])\n# Package for downloading online files:\n# finally import pycroscopy:\ntry:\n    import pyUSID as usid\nexcept ImportError:\n    print('pyUSID not found.  Will install with pip.')\n    import pip\n    install('pyUSID')\n    import pyUSID as usid\ntry:\n    import pycroscopy as px\nexcept ImportError:\n    print('pycroscopy not found.  Will install with pip.')\n    import pip\n    install('pycroscopy')\n    import pycroscopy as px\nfrom pycroscopy.viz import cluster_utils"
      ]
    },
    {
      "cell_type": "markdown",
      "metadata": {},
      "source": [
        "The Data\n========\n\nIn this example, we will work on a **Band Excitation Piezoresponse Force Microscopy (BE-PFM)** imaging dataset\nacquired from advanced atomic force microscopes. In this dataset, a spectra was collected for each position in a two\ndimensional grid of spatial locations. Thus, this is a three dimensional dataset that has been flattened to a two\ndimensional matrix in accordance with the pycroscopy data format.\n\nFortunately, all statistical analysis, machine learning, spectral unmixing algorithms, etc. only accept data that is\nformatted in the same manner of [position x spectra] in a two dimensional matrix.\n\nWe will be using an data file available on our GitHub project page by default. You are encouraged\nto download this document as a Jupyter Notebook (button at the bottom of the page) and use your own data instead.\nWhen using your own data, you can skip this cell and provide the path to your data using the variable - data_file_path\n\n"
      ]
    },
    {
      "cell_type": "code",
      "execution_count": null,
      "metadata": {
        "collapsed": false
      },
      "outputs": [],
      "source": [
        "data_file_path = 'temp_um.h5'\n# download the data file from Github:\nurl = 'https://raw.githubusercontent.com/pycroscopy/pycroscopy/master/data/BELine_0004.h5'\ndata_file_path = wget.download(url, data_file_path, bar=None)\n\nh5_file = h5py.File(data_file_path, mode='r+')\n\nprint('Contents of data file:')\nprint('----------------------')\nusid.hdf_utils.print_tree(h5_file)\nprint('----------------------')\n\nh5_meas_grp = h5_file['Measurement_000']\n\n# Extracting some basic parameters:\nnum_rows = usid.hdf_utils.get_attr(h5_meas_grp, 'grid_num_rows')\nnum_cols = usid.hdf_utils.get_attr(h5_meas_grp, 'grid_num_cols')\n\n# Getting a reference to the main dataset:\nh5_main = usid.USIDataset(h5_meas_grp['Channel_000/Raw_Data'])\nusid.hdf_utils.write_simple_attrs(h5_main, {'quantity': 'Deflection', 'units': 'V'})\n\n# Extracting the X axis - vector of frequencies\nh5_spec_vals = usid.hdf_utils.get_auxiliary_datasets(h5_main, 'Spectroscopic_Values')[-1]\nfreq_vec = np.squeeze(h5_spec_vals.value) * 1E-3\n\nprint('Data currently of shape:', h5_main.shape)\n\nx_label = 'Frequency (kHz)'\ny_label = 'Amplitude (a.u.)'"
      ]
    },
    {
      "cell_type": "markdown",
      "metadata": {},
      "source": [
        "1. Singular Value Decomposition (SVD)\n=====================================\n\nSVD is an eigenvector decomposition that is defined statistically, and therefore typically produces\nnon-physical eigenvectors. Consequently, the interpretation of eigenvectors and abundance maps from\nSVD requires care and caution in interpretation. Nonetheless, it is a good method for quickly\nvisualizing the major trends in the dataset since the resultant eigenvectors are sorted in descending\norder of variance or importance. Furthermore, SVD is also very well suited for data cleaning through\nthe reconstruction of the dataset using only the first N (most significant) components.\n\nSVD results in three matrices:\n\n* V - Eigenvectors sorted by variance in descending order\n* U - corresponding abundance maps\n* S - Variance or importance of each of these components\n\nAdvantage of pycroscopy:\n------------------------\nNotice that we are working with a complex valued dataset. Passing the complex values as is to SVD would result in\ncomplex valued eigenvectors / endmembers as well as abundance maps. Complex valued abundance maps are not physical.\nThus, one would need to restructure the data such that it is real-valued only.\n\nOne solution is to stack the real value followed by the magnitude of the imaginary component before passing to SVD.\nAfter SVD, the real-valued eigenvectors would need to be treated as the concatenation of the real and imaginary\ncomponents. So, the eigenvectors would need to be restructured to get back the complex valued eigenvectors.\n\n**Pycroscopy handles all these data transformations (both for the source dataset and the eigenvectors)\nautomatically.**  In general, pycroscopy handles compound / complex valued datasets everywhere possible\n\nFurthermore, while it is not discussed in this example, pycroscopy also writes back the results from SVD back to\nthe same source h5 file including all relevant links to the source dataset and other ancillary datasets\n\n"
      ]
    },
    {
      "cell_type": "code",
      "execution_count": null,
      "metadata": {
        "collapsed": false
      },
      "outputs": [],
      "source": [
        "decomposer = px.processing.svd_utils.SVD(h5_main, num_components=100)\nh5_svd_group = decomposer.compute()\n\nh5_u = h5_svd_group['U']\nh5_v = h5_svd_group['V']\nh5_s = h5_svd_group['S']\n\n# Since the two spatial dimensions (x, y) have been collapsed to one, we need to reshape the abundance maps:\nabun_maps = np.reshape(h5_u[:, :25], (num_rows, num_cols, -1))\n\nusid.plot_utils.plot_map_stack(abun_maps, num_comps=9, title='SVD Abundance Maps', reverse_dims=True,\n                             color_bar_mode='single', cmap='inferno', title_yoffset=0.95)\n\n\n# Visualize the variance / statistical importance of each component:\nusid.plot_utils.plot_scree(h5_s, title='Note the exponential drop of variance with number of components')\n\n# Visualize the eigenvectors:\n_ = usid.plot_utils.plot_complex_spectra(h5_v[:9, :], x_label=x_label, y_label=y_label,\n                                       title='SVD Eigenvectors', evenly_spaced=False)"
      ]
    },
    {
      "cell_type": "markdown",
      "metadata": {},
      "source": [
        "2. KMeans Clustering\n====================\n\nKMeans clustering is a quick and easy method to determine the types of spectral responses present in the\ndata. It is not a decomposition method, but a basic clustering method. The user inputs the number of\nclusters (sets) to partition the data into. The algorithm proceeds to find the optimal labeling\n(ie., assignment of each spectra as belonging to the k<sup>th</sup> set) such that the within-cluster\nsum of squares is minimized.\n\nSet the number of clusters below\n\n"
      ]
    },
    {
      "cell_type": "code",
      "execution_count": null,
      "metadata": {
        "collapsed": false
      },
      "outputs": [],
      "source": [
        "num_clusters = 4\n\nestimator = px.processing.Cluster(h5_main, KMeans(n_clusters=num_clusters))\nh5_kmeans_grp = estimator.compute(h5_main)\nh5_kmeans_labels = h5_kmeans_grp['Labels']\nh5_kmeans_mean_resp = h5_kmeans_grp['Mean_Response']\n\ncluster_utils.plot_cluster_h5_group(h5_kmeans_grp)"
      ]
    },
    {
      "cell_type": "markdown",
      "metadata": {},
      "source": [
        "3. Non-negative Matrix Factorization (NMF)\n===========================================\n\nNMF, or non-negative matrix factorization, is a method that is useful towards unmixing of spectral\ndata. It only works on data with positive real values. It operates by approximate determination of\nfactors (matrices) W and H, given a matrix V, as shown below\n\n![](https://upload.wikimedia.org/wikipedia/commons/f/f9/NMF.png)\n\n\nUnlike SVD and k-Means that can be applied to complex-valued datasets, NMF only works on non-negative datasets.\nFor illustrative purposes, we will only take the amplitude component of the spectral data\n\n"
      ]
    },
    {
      "cell_type": "code",
      "execution_count": null,
      "metadata": {
        "collapsed": false
      },
      "outputs": [],
      "source": [
        "num_comps = 4\n\n# get the non-negative portion of the dataset\ndata_mat = np.abs(h5_main)\n\nmodel = NMF(n_components=num_comps, init='random', random_state=0)\nmodel.fit(data_mat)\n\nfig, axis = plt.subplots(figsize=(5.5, 5))\nusid.plot_utils.plot_line_family(axis, freq_vec, model.components_, label_prefix='NMF Component #')\naxis.set_xlabel(x_label, fontsize=12)\naxis.set_ylabel(y_label, fontsize=12)\naxis.set_title('NMF Components', fontsize=14)\naxis.legend(bbox_to_anchor=[1.0, 1.0], fontsize=12)"
      ]
    },
    {
      "cell_type": "code",
      "execution_count": null,
      "metadata": {
        "collapsed": false
      },
      "outputs": [],
      "source": [
        "# Close and delete the h5_file\nh5_file.close()\nos.remove(data_file_path)"
      ]
    }
  ],
  "metadata": {
    "kernelspec": {
      "display_name": "Python 3",
      "language": "python",
      "name": "python3"
    },
    "language_info": {
      "codemirror_mode": {
        "name": "ipython",
        "version": 3
      },
      "file_extension": ".py",
      "mimetype": "text/x-python",
      "name": "python",
      "nbconvert_exporter": "python",
      "pygments_lexer": "ipython3",
      "version": "3.6.6"
    }
  },
  "nbformat": 4,
  "nbformat_minor": 0
}